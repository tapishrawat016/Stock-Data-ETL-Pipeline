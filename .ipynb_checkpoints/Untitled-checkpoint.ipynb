{
 "cells": [
  {
   "cell_type": "code",
   "execution_count": 2,
   "id": "af296466",
   "metadata": {},
   "outputs": [],
   "source": [
    "import pyspark\n",
    "from pyspark.sql import SparkSession\n",
    "from pyspark.sql import functions as F"
   ]
  },
  {
   "cell_type": "code",
   "execution_count": 3,
   "id": "57c29c35",
   "metadata": {},
   "outputs": [
    {
     "name": "stderr",
     "output_type": "stream",
     "text": [
      "Setting default log level to \"WARN\".\n",
      "To adjust logging level use sc.setLogLevel(newLevel). For SparkR, use setLogLevel(newLevel).\n"
     ]
    },
    {
     "name": "stdout",
     "output_type": "stream",
     "text": [
      "23/06/13 04:47:54 WARN NativeCodeLoader: Unable to load native-hadoop library for your platform... using builtin-java classes where applicable\n",
      "23/06/13 04:47:55 WARN Utils: Service 'SparkUI' could not bind on port 4040. Attempting port 4041.\n"
     ]
    }
   ],
   "source": [
    "spark = SparkSession.builder \\\n",
    "    .appName('test') \\\n",
    "    .getOrCreate()  \n",
    "    #.conf.set(\"mapreduce.fileoutputcommitter.marksuccessfuljobs\", 'false') \\\n",
    "    \n",
    "   \n",
    "    \n",
    "    #\n",
    "    \n"
   ]
  },
  {
   "cell_type": "code",
   "execution_count": 4,
   "id": "b1edb3cf",
   "metadata": {},
   "outputs": [
    {
     "name": "stderr",
     "output_type": "stream",
     "text": [
      "\r",
      "[Stage 0:>                                                          (0 + 1) / 1]\r",
      "\r",
      "                                                                                \r"
     ]
    }
   ],
   "source": [
    "df= spark.read.parquet('Data/Parqueted_Data')"
   ]
  },
  {
   "cell_type": "code",
   "execution_count": null,
   "id": "de57dade",
   "metadata": {},
   "outputs": [],
   "source": []
  },
  {
   "cell_type": "code",
   "execution_count": 5,
   "id": "eeb40833",
   "metadata": {},
   "outputs": [
    {
     "name": "stdout",
     "output_type": "stream",
     "text": [
      "+-------------------+-------+--------+--------+------+----------+\n",
      "|          timestamp|   open|    high|     low| close|    volume|\n",
      "+-------------------+-------+--------+--------+------+----------+\n",
      "|2023-06-06 00:00:00|  177.7| 184.951|176.9306|179.21| 317693593|\n",
      "|2023-05-31 00:00:00| 169.28|  179.35|  164.31|177.25|1275052503|\n",
      "|2023-04-28 00:00:00| 164.27|  169.85|  159.78|169.68| 967580718|\n",
      "|2023-03-31 00:00:00| 146.83|   165.0|   143.9| 164.9|1520461315|\n",
      "|2023-02-28 00:00:00| 143.97|  157.38|  141.32|147.41|1307294493|\n",
      "|2023-01-31 00:00:00| 130.28|  147.23|  124.17|144.29|1443652725|\n",
      "|2022-12-30 00:00:00| 148.21|150.9199|  125.87|129.93|1675731304|\n",
      "|2022-11-30 00:00:00| 155.08|  155.45|  134.38|148.03|1724948219|\n",
      "|2022-10-31 00:00:00| 138.21|   157.5|  134.37|153.34|1868381344|\n",
      "|2022-09-30 00:00:00| 156.64|  164.26|   138.0| 138.2|2083968147|\n",
      "|2022-08-31 00:00:00| 161.01|  176.15|  157.14|157.22|1509735435|\n",
      "|2022-07-29 00:00:00| 136.04|  163.63|  135.66|162.51|1447364668|\n",
      "|2022-06-30 00:00:00|  149.9|  151.74|  129.04|136.72|1749297959|\n",
      "|2022-05-31 00:00:00| 156.71|  166.48|  132.61|148.84|2400305601|\n",
      "|2022-04-29 00:00:00| 174.03|  178.49|  155.38|157.65|1683547838|\n",
      "|2022-03-31 00:00:00|164.695|  179.61|   150.1|174.61|2171827429|\n",
      "|2022-02-28 00:00:00| 174.01|  176.65|   152.0|165.12|1628570227|\n",
      "|2022-01-31 00:00:00| 177.83|  182.94|   154.7|174.78|2106513962|\n",
      "|2021-12-31 00:00:00| 167.48|  182.13|   157.8|177.57|2443227128|\n",
      "|2021-11-30 00:00:00|148.985|   165.7|  147.48| 165.3|1688864233|\n",
      "+-------------------+-------+--------+--------+------+----------+\n",
      "only showing top 20 rows\n",
      "\n"
     ]
    }
   ],
   "source": [
    "df.show()"
   ]
  },
  {
   "cell_type": "code",
   "execution_count": 6,
   "id": "bf634ab9",
   "metadata": {},
   "outputs": [
    {
     "data": {
      "text/plain": [
       "StructType([StructField('timestamp', TimestampType(), True), StructField('open', DoubleType(), True), StructField('high', DoubleType(), True), StructField('low', DoubleType(), True), StructField('close', DoubleType(), True), StructField('volume', LongType(), True)])"
      ]
     },
     "execution_count": 6,
     "metadata": {},
     "output_type": "execute_result"
    }
   ],
   "source": [
    "df.schema"
   ]
  },
  {
   "cell_type": "code",
   "execution_count": 8,
   "id": "7418438f",
   "metadata": {},
   "outputs": [],
   "source": [
    "from pyspark.sql import types"
   ]
  },
  {
   "cell_type": "code",
   "execution_count": null,
   "id": "b3217498",
   "metadata": {},
   "outputs": [],
   "source": []
  },
  {
   "cell_type": "code",
   "execution_count": 9,
   "id": "9c072eb6",
   "metadata": {},
   "outputs": [],
   "source": [
    "import os"
   ]
  },
  {
   "cell_type": "code",
   "execution_count": 14,
   "id": "2038bea6",
   "metadata": {},
   "outputs": [],
   "source": [
    "path = os.getcwd()\n",
    "directory = f'{path}/Data/Parqueted_Data'\n",
    "for filename in os.listdir(directory):\n",
    "    f = os.path.join(directory, filename)\n",
    "    # checking if it is a file\n",
    "    if os.path.isfile(f):\n",
    "        file_name = os.path.basename(f).split('.')[0]\n",
    "        df_schema=types.StructType([types.StructField('timestamp',\n",
    "                     types.TimestampType(),\n",
    "                     True),\n",
    "                     types.StructField('open',\n",
    "                     types.DoubleType(),\n",
    "                     True),\n",
    "                     types.StructField('high',\n",
    "                     types.DoubleType(),\n",
    "                     True),\n",
    "                     types.StructField('low',\n",
    "                     types.DoubleType(),\n",
    "                     True),\n",
    "                     types.StructField('close',\n",
    "                     types.DoubleType(),\n",
    "                     True),\n",
    "                     types.StructField('volume',\n",
    "                     types.LongType(),\n",
    "                     True)])\n",
    "        df = spark.read \\\n",
    "               .option(\"header\", \"true\") \\\n",
    "               .schema(df_schema) \\\n",
    "               .parquet(f'Data/Parqueted_Data/{file_name}.parquet')\n",
    "        \n",
    "        df.registerTempTable('stock_data')\n",
    "        df_stock_data = spark.sql(\"\"\"\n",
    "                        SELECT \n",
    "                            timestamp AS Date, \n",
    "                            ROUND(open, 2) AS Opened_At,\n",
    "                            ROUND(high, 2) AS Days_High,\n",
    "                            ROUND(low, 2) AS Days_low,\n",
    "                            ROUND(close, 2) AS Closed_At\n",
    "                        FROM\n",
    "                            stock_data\n",
    "\n",
    "                        \"\"\")\n",
    "        df_stock_data.coalesce(1).write.mode('overwrite').parquet(f'Data/Transformed_Data/{file_name}')"
   ]
  },
  {
   "cell_type": "code",
   "execution_count": null,
   "id": "c7354d42",
   "metadata": {},
   "outputs": [],
   "source": []
  },
  {
   "cell_type": "code",
   "execution_count": 15,
   "id": "84022eb7",
   "metadata": {},
   "outputs": [
    {
     "name": "stdout",
     "output_type": "stream",
     "text": [
      "+-------------------+-------+-------+-------+------+---------+\n",
      "|          timestamp|   open|   high|    low| close|   volume|\n",
      "+-------------------+-------+-------+-------+------+---------+\n",
      "|2023-06-06 00:00:00| 159.06| 172.65| 158.23|171.82| 15410266|\n",
      "|2023-05-31 00:00:00| 161.85| 161.85|146.275|158.56| 65407276|\n",
      "|2023-04-28 00:00:00| 164.11| 166.55| 154.01|161.34| 60871010|\n",
      "|2023-03-31 00:00:00| 173.51|180.515|  154.9|164.95| 90830651|\n",
      "|2023-02-28 00:00:00| 173.38| 182.15| 171.08|173.99| 56741203|\n",
      "|2023-01-31 00:00:00| 149.54| 177.86|  144.2|174.93| 80777285|\n",
      "|2022-12-30 00:00:00| 157.72| 161.55| 142.72|147.75| 53953591|\n",
      "|2022-11-30 00:00:00| 149.96| 158.88| 138.77|157.59| 59588876|\n",
      "|2022-10-31 00:00:00| 137.95| 150.91| 130.65|148.45| 75510462|\n",
      "|2022-09-30 00:00:00| 150.82| 163.45|134.615|134.91| 66252580|\n",
      "|2022-08-31 00:00:00| 152.84| 166.06| 150.84| 152.0| 54976973|\n",
      "|2022-07-29 00:00:00| 138.07| 160.88| 134.12|154.02| 78378421|\n",
      "|2022-06-30 00:00:00|  168.7|170.259|  134.3|138.62| 76144920|\n",
      "|2022-05-31 00:00:00|174.652| 178.17| 149.71|168.82| 68020551|\n",
      "|2022-04-29 00:00:00|  188.2| 192.42|  174.0|174.71| 67036471|\n",
      "|2022-03-31 00:00:00| 194.67| 194.77| 155.72| 187.0|102429917|\n",
      "|2022-02-28 00:00:00| 179.92| 199.55|  179.0|194.54| 78105887|\n",
      "|2022-01-31 00:00:00| 164.51| 180.13| 152.85|179.82| 94753520|\n",
      "|2021-12-31 00:00:00|  156.1| 170.58| 149.89| 163.6| 83511760|\n",
      "|2021-11-30 00:00:00| 174.58| 183.93|  151.7| 152.3| 82442869|\n",
      "+-------------------+-------+-------+-------+------+---------+\n",
      "only showing top 20 rows\n",
      "\n"
     ]
    }
   ],
   "source": [
    "df.show()"
   ]
  },
  {
   "cell_type": "code",
   "execution_count": null,
   "id": "6bcd8e4e",
   "metadata": {},
   "outputs": [],
   "source": []
  },
  {
   "cell_type": "code",
   "execution_count": null,
   "id": "9ca8c5e4",
   "metadata": {},
   "outputs": [],
   "source": []
  },
  {
   "cell_type": "code",
   "execution_count": null,
   "id": "2ddd511f",
   "metadata": {},
   "outputs": [],
   "source": []
  },
  {
   "cell_type": "code",
   "execution_count": 16,
   "id": "6030dc18",
   "metadata": {},
   "outputs": [
    {
     "name": "stdout",
     "output_type": "stream",
     "text": [
      "+-------------------+-------+-------+-------+------+---------+\n",
      "|          timestamp|   open|   high|    low| close|   volume|\n",
      "+-------------------+-------+-------+-------+------+---------+\n",
      "|2023-06-06 00:00:00| 159.06| 172.65| 158.23|171.82| 15410266|\n",
      "|2023-05-31 00:00:00| 161.85| 161.85|146.275|158.56| 65407276|\n",
      "|2023-04-28 00:00:00| 164.11| 166.55| 154.01|161.34| 60871010|\n",
      "|2023-03-31 00:00:00| 173.51|180.515|  154.9|164.95| 90830651|\n",
      "|2023-02-28 00:00:00| 173.38| 182.15| 171.08|173.99| 56741203|\n",
      "|2023-01-31 00:00:00| 149.54| 177.86|  144.2|174.93| 80777285|\n",
      "|2022-12-30 00:00:00| 157.72| 161.55| 142.72|147.75| 53953591|\n",
      "|2022-11-30 00:00:00| 149.96| 158.88| 138.77|157.59| 59588876|\n",
      "|2022-10-31 00:00:00| 137.95| 150.91| 130.65|148.45| 75510462|\n",
      "|2022-09-30 00:00:00| 150.82| 163.45|134.615|134.91| 66252580|\n",
      "|2022-08-31 00:00:00| 152.84| 166.06| 150.84| 152.0| 54976973|\n",
      "|2022-07-29 00:00:00| 138.07| 160.88| 134.12|154.02| 78378421|\n",
      "|2022-06-30 00:00:00|  168.7|170.259|  134.3|138.62| 76144920|\n",
      "|2022-05-31 00:00:00|174.652| 178.17| 149.71|168.82| 68020551|\n",
      "|2022-04-29 00:00:00|  188.2| 192.42|  174.0|174.71| 67036471|\n",
      "|2022-03-31 00:00:00| 194.67| 194.77| 155.72| 187.0|102429917|\n",
      "|2022-02-28 00:00:00| 179.92| 199.55|  179.0|194.54| 78105887|\n",
      "|2022-01-31 00:00:00| 164.51| 180.13| 152.85|179.82| 94753520|\n",
      "|2021-12-31 00:00:00|  156.1| 170.58| 149.89| 163.6| 83511760|\n",
      "|2021-11-30 00:00:00| 174.58| 183.93|  151.7| 152.3| 82442869|\n",
      "+-------------------+-------+-------+-------+------+---------+\n",
      "only showing top 20 rows\n",
      "\n"
     ]
    }
   ],
   "source": [
    "df.show()"
   ]
  },
  {
   "cell_type": "code",
   "execution_count": 17,
   "id": "ce90afe0",
   "metadata": {},
   "outputs": [
    {
     "data": {
      "text/plain": [
       "StructType([StructField('timestamp', TimestampType(), True), StructField('open', DoubleType(), True), StructField('high', DoubleType(), True), StructField('low', DoubleType(), True), StructField('close', DoubleType(), True), StructField('volume', LongType(), True)])"
      ]
     },
     "execution_count": 17,
     "metadata": {},
     "output_type": "execute_result"
    }
   ],
   "source": [
    "df.schema"
   ]
  },
  {
   "cell_type": "code",
   "execution_count": null,
   "id": "bf587057",
   "metadata": {},
   "outputs": [],
   "source": []
  },
  {
   "cell_type": "code",
   "execution_count": null,
   "id": "358c84ab",
   "metadata": {},
   "outputs": [],
   "source": []
  },
  {
   "cell_type": "code",
   "execution_count": null,
   "id": "92532216",
   "metadata": {},
   "outputs": [],
   "source": [
    "spark.conf().set(\"mapreduce.fileoutputcommitter.marksuccessfuljobs\", false)"
   ]
  },
  {
   "cell_type": "code",
   "execution_count": null,
   "id": "9505dfef",
   "metadata": {},
   "outputs": [],
   "source": []
  },
  {
   "cell_type": "code",
   "execution_count": null,
   "id": "46110684",
   "metadata": {},
   "outputs": [],
   "source": []
  }
 ],
 "metadata": {
  "kernelspec": {
   "display_name": "Python 3 (ipykernel)",
   "language": "python",
   "name": "python3"
  },
  "language_info": {
   "codemirror_mode": {
    "name": "ipython",
    "version": 3
   },
   "file_extension": ".py",
   "mimetype": "text/x-python",
   "name": "python",
   "nbconvert_exporter": "python",
   "pygments_lexer": "ipython3",
   "version": "3.10.9"
  }
 },
 "nbformat": 4,
 "nbformat_minor": 5
}
